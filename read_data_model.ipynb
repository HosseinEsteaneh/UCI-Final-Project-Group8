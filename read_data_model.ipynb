{
 "cells": [
  {
   "cell_type": "code",
   "execution_count": 1,
   "metadata": {},
   "outputs": [],
   "source": [
    "import pandas as pd\n",
    "from sqlalchemy import create_engine\n",
    "import numpy as np\n",
    "import sqlalchemy as sqlalchemy\n"
   ]
  },
  {
   "cell_type": "code",
   "execution_count": 2,
   "metadata": {},
   "outputs": [],
   "source": [
    "rds_connection_string = \"postgres:Platinum9823#@localhost:5432/finalp_db\"\n",
    "engine = create_engine(f'postgresql://{rds_connection_string}')"
   ]
  },
  {
   "cell_type": "code",
   "execution_count": 3,
   "metadata": {},
   "outputs": [
    {
     "data": {
      "text/plain": [
       "['review_info', 'movie_info']"
      ]
     },
     "execution_count": 3,
     "metadata": {},
     "output_type": "execute_result"
    }
   ],
   "source": [
    "engine.table_names()"
   ]
  },
  {
   "cell_type": "code",
   "execution_count": 4,
   "metadata": {},
   "outputs": [],
   "source": [
    "movie_info=pd.read_sql_query('select * from movie_info', con=engine)"
   ]
  },
  {
   "cell_type": "code",
   "execution_count": 5,
   "metadata": {},
   "outputs": [],
   "source": [
    "review_info=pd.read_sql_query('select * from review_info', con=engine)"
   ]
  },
  {
   "cell_type": "code",
   "execution_count": 6,
   "metadata": {
    "scrolled": true
   },
   "outputs": [
    {
     "data": {
      "text/html": [
       "<div>\n",
       "<style scoped>\n",
       "    .dataframe tbody tr th:only-of-type {\n",
       "        vertical-align: middle;\n",
       "    }\n",
       "\n",
       "    .dataframe tbody tr th {\n",
       "        vertical-align: top;\n",
       "    }\n",
       "\n",
       "    .dataframe thead th {\n",
       "        text-align: right;\n",
       "    }\n",
       "</style>\n",
       "<table border=\"1\" class=\"dataframe\">\n",
       "  <thead>\n",
       "    <tr style=\"text-align: right;\">\n",
       "      <th></th>\n",
       "      <th>movie_id</th>\n",
       "      <th>movie_title</th>\n",
       "      <th>rating</th>\n",
       "      <th>nreviews</th>\n",
       "      <th>genre</th>\n",
       "      <th>genre1</th>\n",
       "      <th>genre2</th>\n",
       "      <th>genre3</th>\n",
       "    </tr>\n",
       "  </thead>\n",
       "  <tbody>\n",
       "    <tr>\n",
       "      <th>0</th>\n",
       "      <td>tt9140560</td>\n",
       "      <td>WandaVision</td>\n",
       "      <td>8.3</td>\n",
       "      <td>69400.0</td>\n",
       "      <td>Action  Comedy  Drama</td>\n",
       "      <td>Action</td>\n",
       "      <td>Comedy</td>\n",
       "      <td>Drama</td>\n",
       "    </tr>\n",
       "    <tr>\n",
       "      <th>1</th>\n",
       "      <td>tt11192306</td>\n",
       "      <td>Superman and Lois</td>\n",
       "      <td>8.1</td>\n",
       "      <td>3982.0</td>\n",
       "      <td>Action  Adventure  Drama</td>\n",
       "      <td>Action</td>\n",
       "      <td>Adventure</td>\n",
       "      <td>Drama</td>\n",
       "    </tr>\n",
       "    <tr>\n",
       "      <th>2</th>\n",
       "      <td>tt9184982</td>\n",
       "      <td>Tribes of Europa</td>\n",
       "      <td>6.8</td>\n",
       "      <td>5120.0</td>\n",
       "      <td>Action  Adventure  Drama</td>\n",
       "      <td>Action</td>\n",
       "      <td>Adventure</td>\n",
       "      <td>Drama</td>\n",
       "    </tr>\n",
       "    <tr>\n",
       "      <th>3</th>\n",
       "      <td>tt2560140</td>\n",
       "      <td>Attack on Titan</td>\n",
       "      <td>8.9</td>\n",
       "      <td>204699.0</td>\n",
       "      <td>Animation  Action  Adventure</td>\n",
       "      <td>Animation</td>\n",
       "      <td>Action</td>\n",
       "      <td>Adventure</td>\n",
       "    </tr>\n",
       "    <tr>\n",
       "      <th>4</th>\n",
       "      <td>tt0944947</td>\n",
       "      <td>Game of Thrones</td>\n",
       "      <td>9.3</td>\n",
       "      <td>1777156.0</td>\n",
       "      <td>Action  Adventure  Drama</td>\n",
       "      <td>Action</td>\n",
       "      <td>Adventure</td>\n",
       "      <td>Drama</td>\n",
       "    </tr>\n",
       "    <tr>\n",
       "      <th>...</th>\n",
       "      <td>...</td>\n",
       "      <td>...</td>\n",
       "      <td>...</td>\n",
       "      <td>...</td>\n",
       "      <td>...</td>\n",
       "      <td>...</td>\n",
       "      <td>...</td>\n",
       "      <td>...</td>\n",
       "    </tr>\n",
       "    <tr>\n",
       "      <th>3834</th>\n",
       "      <td>tt2040560</td>\n",
       "      <td>The Pact</td>\n",
       "      <td>5.7</td>\n",
       "      <td>23486.0</td>\n",
       "      <td>Horror  Mystery  Thriller</td>\n",
       "      <td>Horror</td>\n",
       "      <td>Mystery</td>\n",
       "      <td>Thriller</td>\n",
       "    </tr>\n",
       "    <tr>\n",
       "      <th>3835</th>\n",
       "      <td>tt0105459</td>\n",
       "      <td>Split Second</td>\n",
       "      <td>6.2</td>\n",
       "      <td>12590.0</td>\n",
       "      <td>Action  Crime  Horror</td>\n",
       "      <td>Action</td>\n",
       "      <td>Crime</td>\n",
       "      <td>Horror</td>\n",
       "    </tr>\n",
       "    <tr>\n",
       "      <th>3836</th>\n",
       "      <td>tt4798836</td>\n",
       "      <td>Bad Hair</td>\n",
       "      <td>5.6</td>\n",
       "      <td>2235.0</td>\n",
       "      <td>Comedy  Horror</td>\n",
       "      <td>Comedy</td>\n",
       "      <td>Horror</td>\n",
       "      <td>None</td>\n",
       "    </tr>\n",
       "    <tr>\n",
       "      <th>3837</th>\n",
       "      <td>tt0044121</td>\n",
       "      <td>The Thing from Another World</td>\n",
       "      <td>7.1</td>\n",
       "      <td>26023.0</td>\n",
       "      <td>Horror  Sci-Fi</td>\n",
       "      <td>Horror</td>\n",
       "      <td>Sci-Fi</td>\n",
       "      <td>None</td>\n",
       "    </tr>\n",
       "    <tr>\n",
       "      <th>3838</th>\n",
       "      <td>tt7737734</td>\n",
       "      <td>The Other Lamb</td>\n",
       "      <td>5.2</td>\n",
       "      <td>3311.0</td>\n",
       "      <td>Drama  Horror</td>\n",
       "      <td>Drama</td>\n",
       "      <td>Horror</td>\n",
       "      <td>None</td>\n",
       "    </tr>\n",
       "  </tbody>\n",
       "</table>\n",
       "<p>3839 rows × 8 columns</p>\n",
       "</div>"
      ],
      "text/plain": [
       "        movie_id                   movie_title  rating   nreviews  \\\n",
       "0      tt9140560                   WandaVision     8.3    69400.0   \n",
       "1     tt11192306             Superman and Lois     8.1     3982.0   \n",
       "2      tt9184982              Tribes of Europa     6.8     5120.0   \n",
       "3      tt2560140               Attack on Titan     8.9   204699.0   \n",
       "4      tt0944947               Game of Thrones     9.3  1777156.0   \n",
       "...          ...                           ...     ...        ...   \n",
       "3834   tt2040560                      The Pact     5.7    23486.0   \n",
       "3835   tt0105459                  Split Second     6.2    12590.0   \n",
       "3836   tt4798836                      Bad Hair     5.6     2235.0   \n",
       "3837   tt0044121  The Thing from Another World     7.1    26023.0   \n",
       "3838   tt7737734                The Other Lamb     5.2     3311.0   \n",
       "\n",
       "                                         genre     genre1     genre2  \\\n",
       "0            Action  Comedy  Drama                 Action     Comedy   \n",
       "1         Action  Adventure  Drama                 Action  Adventure   \n",
       "2         Action  Adventure  Drama                 Action  Adventure   \n",
       "3     Animation  Action  Adventure              Animation     Action   \n",
       "4         Action  Adventure  Drama                 Action  Adventure   \n",
       "...                                        ...        ...        ...   \n",
       "3834     Horror  Mystery  Thriller                 Horror    Mystery   \n",
       "3835         Action  Crime  Horror                 Action      Crime   \n",
       "3836                Comedy  Horror                 Comedy     Horror   \n",
       "3837                Horror  Sci-Fi                 Horror     Sci-Fi   \n",
       "3838                 Drama  Horror                  Drama     Horror   \n",
       "\n",
       "         genre3  \n",
       "0         Drama  \n",
       "1         Drama  \n",
       "2         Drama  \n",
       "3     Adventure  \n",
       "4         Drama  \n",
       "...         ...  \n",
       "3834   Thriller  \n",
       "3835     Horror  \n",
       "3836       None  \n",
       "3837       None  \n",
       "3838       None  \n",
       "\n",
       "[3839 rows x 8 columns]"
      ]
     },
     "execution_count": 6,
     "metadata": {},
     "output_type": "execute_result"
    }
   ],
   "source": [
    "movie_info"
   ]
  },
  {
   "cell_type": "code",
   "execution_count": 9,
   "metadata": {},
   "outputs": [
    {
     "data": {
      "text/html": [
       "<div>\n",
       "<style scoped>\n",
       "    .dataframe tbody tr th:only-of-type {\n",
       "        vertical-align: middle;\n",
       "    }\n",
       "\n",
       "    .dataframe tbody tr th {\n",
       "        vertical-align: top;\n",
       "    }\n",
       "\n",
       "    .dataframe thead th {\n",
       "        text-align: right;\n",
       "    }\n",
       "</style>\n",
       "<table border=\"1\" class=\"dataframe\">\n",
       "  <thead>\n",
       "    <tr style=\"text-align: right;\">\n",
       "      <th></th>\n",
       "      <th>movie_id</th>\n",
       "      <th>rating_ind</th>\n",
       "      <th>rating_text</th>\n",
       "    </tr>\n",
       "  </thead>\n",
       "  <tbody>\n",
       "    <tr>\n",
       "      <th>0</th>\n",
       "      <td>tt11192306</td>\n",
       "      <td>8.0</td>\n",
       "      <td>I am not a fan of CW superhero tv series since...</td>\n",
       "    </tr>\n",
       "    <tr>\n",
       "      <th>1</th>\n",
       "      <td>tt11192306</td>\n",
       "      <td>9.0</td>\n",
       "      <td>Being that this is a Berlanti CW show I was NO...</td>\n",
       "    </tr>\n",
       "    <tr>\n",
       "      <th>2</th>\n",
       "      <td>tt9184982</td>\n",
       "      <td>7.0</td>\n",
       "      <td>It's hard for me to get into shows in a foreig...</td>\n",
       "    </tr>\n",
       "    <tr>\n",
       "      <th>3</th>\n",
       "      <td>tt9184982</td>\n",
       "      <td>9.0</td>\n",
       "      <td>On a plus side :well litnice characterization/...</td>\n",
       "    </tr>\n",
       "    <tr>\n",
       "      <th>4</th>\n",
       "      <td>tt9184982</td>\n",
       "      <td>8.0</td>\n",
       "      <td>I watched the first three episodes. Not becaus...</td>\n",
       "    </tr>\n",
       "    <tr>\n",
       "      <th>...</th>\n",
       "      <td>...</td>\n",
       "      <td>...</td>\n",
       "      <td>...</td>\n",
       "    </tr>\n",
       "    <tr>\n",
       "      <th>2937</th>\n",
       "      <td>tt0435705</td>\n",
       "      <td>8.0</td>\n",
       "      <td>When a group of terrorists threatens to explod...</td>\n",
       "    </tr>\n",
       "    <tr>\n",
       "      <th>2938</th>\n",
       "      <td>tt0435705</td>\n",
       "      <td>9.0</td>\n",
       "      <td>Nicolas Cage is comfortable playing Las Vegas ...</td>\n",
       "    </tr>\n",
       "    <tr>\n",
       "      <th>2939</th>\n",
       "      <td>tt0435705</td>\n",
       "      <td>2.0</td>\n",
       "      <td>Oh Hollywood, Hollywood, Hollywood, why can't ...</td>\n",
       "    </tr>\n",
       "    <tr>\n",
       "      <th>2940</th>\n",
       "      <td>tt0435705</td>\n",
       "      <td>7.0</td>\n",
       "      <td>I just went to see it this morning and a huge ...</td>\n",
       "    </tr>\n",
       "    <tr>\n",
       "      <th>2941</th>\n",
       "      <td>tt3230454</td>\n",
       "      <td>9.0</td>\n",
       "      <td>I suppose it's expected that a show this uniqu...</td>\n",
       "    </tr>\n",
       "  </tbody>\n",
       "</table>\n",
       "<p>2942 rows × 3 columns</p>\n",
       "</div>"
      ],
      "text/plain": [
       "        movie_id  rating_ind  \\\n",
       "0     tt11192306         8.0   \n",
       "1     tt11192306         9.0   \n",
       "2      tt9184982         7.0   \n",
       "3      tt9184982         9.0   \n",
       "4      tt9184982         8.0   \n",
       "...          ...         ...   \n",
       "2937   tt0435705         8.0   \n",
       "2938   tt0435705         9.0   \n",
       "2939   tt0435705         2.0   \n",
       "2940   tt0435705         7.0   \n",
       "2941   tt3230454         9.0   \n",
       "\n",
       "                                            rating_text  \n",
       "0     I am not a fan of CW superhero tv series since...  \n",
       "1     Being that this is a Berlanti CW show I was NO...  \n",
       "2     It's hard for me to get into shows in a foreig...  \n",
       "3     On a plus side :well litnice characterization/...  \n",
       "4     I watched the first three episodes. Not becaus...  \n",
       "...                                                 ...  \n",
       "2937  When a group of terrorists threatens to explod...  \n",
       "2938  Nicolas Cage is comfortable playing Las Vegas ...  \n",
       "2939  Oh Hollywood, Hollywood, Hollywood, why can't ...  \n",
       "2940  I just went to see it this morning and a huge ...  \n",
       "2941  I suppose it's expected that a show this uniqu...  \n",
       "\n",
       "[2942 rows x 3 columns]"
      ]
     },
     "execution_count": 9,
     "metadata": {},
     "output_type": "execute_result"
    }
   ],
   "source": [
    "review_info"
   ]
  },
  {
   "cell_type": "code",
   "execution_count": 28,
   "metadata": {},
   "outputs": [],
   "source": [
    "array=[]"
   ]
  },
  {
   "cell_type": "code",
   "execution_count": 29,
   "metadata": {},
   "outputs": [
    {
     "data": {
      "text/plain": [
       "array([], dtype=object)"
      ]
     },
     "execution_count": 29,
     "metadata": {},
     "output_type": "execute_result"
    }
   ],
   "source": [
    "# top 6 genres by the total number of movies\n",
    "top6_genre = (movie_info.iloc[:, 4:-1] # get the genre columns only\n",
    "              .sum() # sum them up\n",
    "              .sort_values(ascending=False) # sort descending\n",
    "              .head(6) # get the first 6\n",
    "              .index.values # get the genre names\n",
    "              )\n",
    "\n",
    "top6_genre"
   ]
  },
  {
   "cell_type": "code",
   "execution_count": 33,
   "metadata": {},
   "outputs": [
    {
     "data": {
      "text/plain": [
       "movie_id        object\n",
       "movie_title     object\n",
       "rating         float64\n",
       "nreviews       float64\n",
       "genre           object\n",
       "genre1          object\n",
       "genre2          object\n",
       "genre3          object\n",
       "dtype: object"
      ]
     },
     "execution_count": 33,
     "metadata": {},
     "output_type": "execute_result"
    }
   ],
   "source": [
    "movie_info.dtypes"
   ]
  },
  {
   "cell_type": "code",
   "execution_count": 39,
   "metadata": {},
   "outputs": [
    {
     "data": {
      "text/plain": [
       "7.3    156\n",
       "6.6    148\n",
       "7.5    142\n",
       "7.6    142\n",
       "7.0    139\n",
       "      ... \n",
       "2.5      1\n",
       "3.5      1\n",
       "9.6      1\n",
       "1.8      1\n",
       "2.7      1\n",
       "Name: rating, Length: 74, dtype: int64"
      ]
     },
     "execution_count": 39,
     "metadata": {},
     "output_type": "execute_result"
    }
   ],
   "source": [
    "movie_info['rating'].value_counts()"
   ]
  },
  {
   "cell_type": "code",
   "execution_count": 40,
   "metadata": {},
   "outputs": [
    {
     "data": {
      "text/plain": [
       "count    3839.000000\n",
       "mean        6.971503\n",
       "std         1.115884\n",
       "min         1.800000\n",
       "25%         6.300000\n",
       "50%         7.100000\n",
       "75%         7.800000\n",
       "max         9.700000\n",
       "Name: rating, dtype: float64"
      ]
     },
     "execution_count": 40,
     "metadata": {},
     "output_type": "execute_result"
    }
   ],
   "source": [
    "movie_info['rating'].describe()"
   ]
  },
  {
   "cell_type": "code",
   "execution_count": 41,
   "metadata": {},
   "outputs": [
    {
     "data": {
      "text/plain": [
       "<AxesSubplot:>"
      ]
     },
     "execution_count": 41,
     "metadata": {},
     "output_type": "execute_result"
    },
    {
     "data": {
      "image/png": "[encoded data removed]",
      "text/plain": [
       "<Figure size 432x288 with 1 Axes>"
      ]
     },
     "metadata": {
      "needs_background": "light"
     },
     "output_type": "display_data"
    }
   ],
   "source": [
    "movie_info['rating'].hist(bins=10)"
   ]
  },
  {
   "cell_type": "code",
   "execution_count": 42,
   "metadata": {},
   "outputs": [
    {
     "data": {
      "text/plain": [
       "<AxesSubplot:>"
      ]
     },
     "execution_count": 42,
     "metadata": {},
     "output_type": "execute_result"
    },
    {
     "data": {
      "image/png": "[encoded data removed]",
      "text/plain": [
       "<Figure size 432x288 with 1 Axes>"
      ]
     },
     "metadata": {
      "needs_background": "light"
     },
     "output_type": "display_data"
    }
   ],
   "source": [
    "movie_info['rating'].hist(bins=30)\n"
   ]
  },
  {
   "cell_type": "code",
   "execution_count": 43,
   "metadata": {},
   "outputs": [
    {
     "data": {
      "text/plain": [
       "'You have 556 unique movie ids in the data'"
      ]
     },
     "execution_count": 43,
     "metadata": {},
     "output_type": "execute_result"
    }
   ],
   "source": [
    "f\"You have {len(review_info.movie_id.unique())} unique movie ids in the data\""
   ]
  },
  {
   "cell_type": "code",
   "execution_count": 46,
   "metadata": {},
   "outputs": [
    {
     "data": {
      "text/html": [
       "<div>\n",
       "<style scoped>\n",
       "    .dataframe tbody tr th:only-of-type {\n",
       "        vertical-align: middle;\n",
       "    }\n",
       "\n",
       "    .dataframe tbody tr th {\n",
       "        vertical-align: top;\n",
       "    }\n",
       "\n",
       "    .dataframe thead th {\n",
       "        text-align: right;\n",
       "    }\n",
       "</style>\n",
       "<table border=\"1\" class=\"dataframe\">\n",
       "  <thead>\n",
       "    <tr style=\"text-align: right;\">\n",
       "      <th></th>\n",
       "      <th>rating_ind</th>\n",
       "      <th>rating_text</th>\n",
       "      <th>movie_title</th>\n",
       "      <th>rating</th>\n",
       "      <th>nreviews</th>\n",
       "      <th>genre</th>\n",
       "      <th>genre1</th>\n",
       "      <th>genre2</th>\n",
       "      <th>genre3</th>\n",
       "    </tr>\n",
       "    <tr>\n",
       "      <th>movie_id</th>\n",
       "      <th></th>\n",
       "      <th></th>\n",
       "      <th></th>\n",
       "      <th></th>\n",
       "      <th></th>\n",
       "      <th></th>\n",
       "      <th></th>\n",
       "      <th></th>\n",
       "      <th></th>\n",
       "    </tr>\n",
       "  </thead>\n",
       "  <tbody>\n",
       "    <tr>\n",
       "      <th>tt0047478</th>\n",
       "      <td>9.0</td>\n",
       "      <td>After getting used to shoot-em-up action flick...</td>\n",
       "      <td>Seven Samurai</td>\n",
       "      <td>8.6</td>\n",
       "      <td>317416.0</td>\n",
       "      <td>Action  Adventure  Drama</td>\n",
       "      <td>Action</td>\n",
       "      <td>Adventure</td>\n",
       "      <td>Drama</td>\n",
       "    </tr>\n",
       "    <tr>\n",
       "      <th>tt0047478</th>\n",
       "      <td>7.0</td>\n",
       "      <td>Shichinin no samurai is a quintessential Kuros...</td>\n",
       "      <td>Seven Samurai</td>\n",
       "      <td>8.6</td>\n",
       "      <td>317416.0</td>\n",
       "      <td>Action  Adventure  Drama</td>\n",
       "      <td>Action</td>\n",
       "      <td>Adventure</td>\n",
       "      <td>Drama</td>\n",
       "    </tr>\n",
       "  </tbody>\n",
       "</table>\n",
       "</div>"
      ],
      "text/plain": [
       "           rating_ind                                        rating_text  \\\n",
       "movie_id                                                                   \n",
       "tt0047478         9.0  After getting used to shoot-em-up action flick...   \n",
       "tt0047478         7.0  Shichinin no samurai is a quintessential Kuros...   \n",
       "\n",
       "             movie_title  rating  nreviews  \\\n",
       "movie_id                                     \n",
       "tt0047478  Seven Samurai     8.6  317416.0   \n",
       "tt0047478  Seven Samurai     8.6  317416.0   \n",
       "\n",
       "                                          genre  genre1     genre2 genre3  \n",
       "movie_id                                                                   \n",
       "tt0047478  Action  Adventure  Drama              Action  Adventure  Drama  \n",
       "tt0047478  Action  Adventure  Drama              Action  Adventure  Drama  "
      ]
     },
     "execution_count": 46,
     "metadata": {},
     "output_type": "execute_result"
    }
   ],
   "source": [
    "movies_rating = (review_info\n",
    "                  .set_index(\"movie_id\")\n",
    "                  .join(movie_info.set_index(\"movie_id\"),\n",
    "                        how=\"left\")\n",
    "                 )\n",
    "\n",
    "movies_rating.head(2)"
   ]
  },
  {
   "cell_type": "code",
   "execution_count": 58,
   "metadata": {},
   "outputs": [
    {
     "data": {
      "text/html": [
       "<div>\n",
       "<style scoped>\n",
       "    .dataframe tbody tr th:only-of-type {\n",
       "        vertical-align: middle;\n",
       "    }\n",
       "\n",
       "    .dataframe tbody tr th {\n",
       "        vertical-align: top;\n",
       "    }\n",
       "\n",
       "    .dataframe thead th {\n",
       "        text-align: right;\n",
       "    }\n",
       "</style>\n",
       "<table border=\"1\" class=\"dataframe\">\n",
       "  <thead>\n",
       "    <tr style=\"text-align: right;\">\n",
       "      <th></th>\n",
       "      <th>Action</th>\n",
       "      <th>Adventure</th>\n",
       "      <th>Biography</th>\n",
       "      <th>Comedy</th>\n",
       "      <th>Crime</th>\n",
       "      <th>Drama</th>\n",
       "      <th>Family</th>\n",
       "      <th>Fantasy</th>\n",
       "      <th>History</th>\n",
       "      <th>Horror</th>\n",
       "      <th>...</th>\n",
       "      <th>Musical</th>\n",
       "      <th>Mystery</th>\n",
       "      <th>Reality-TV</th>\n",
       "      <th>Romance</th>\n",
       "      <th>Sci-Fi</th>\n",
       "      <th>Sport</th>\n",
       "      <th>Talk-Show</th>\n",
       "      <th>Thriller</th>\n",
       "      <th>War</th>\n",
       "      <th>Western</th>\n",
       "    </tr>\n",
       "  </thead>\n",
       "  <tbody>\n",
       "    <tr>\n",
       "      <th>0</th>\n",
       "      <td>0</td>\n",
       "      <td>0</td>\n",
       "      <td>0</td>\n",
       "      <td>0</td>\n",
       "      <td>0</td>\n",
       "      <td>1</td>\n",
       "      <td>0</td>\n",
       "      <td>0</td>\n",
       "      <td>0</td>\n",
       "      <td>0</td>\n",
       "      <td>...</td>\n",
       "      <td>0</td>\n",
       "      <td>0</td>\n",
       "      <td>0</td>\n",
       "      <td>0</td>\n",
       "      <td>0</td>\n",
       "      <td>0</td>\n",
       "      <td>0</td>\n",
       "      <td>0</td>\n",
       "      <td>0</td>\n",
       "      <td>0</td>\n",
       "    </tr>\n",
       "    <tr>\n",
       "      <th>1</th>\n",
       "      <td>0</td>\n",
       "      <td>0</td>\n",
       "      <td>0</td>\n",
       "      <td>0</td>\n",
       "      <td>0</td>\n",
       "      <td>1</td>\n",
       "      <td>0</td>\n",
       "      <td>0</td>\n",
       "      <td>0</td>\n",
       "      <td>0</td>\n",
       "      <td>...</td>\n",
       "      <td>0</td>\n",
       "      <td>0</td>\n",
       "      <td>0</td>\n",
       "      <td>0</td>\n",
       "      <td>0</td>\n",
       "      <td>0</td>\n",
       "      <td>0</td>\n",
       "      <td>0</td>\n",
       "      <td>0</td>\n",
       "      <td>0</td>\n",
       "    </tr>\n",
       "    <tr>\n",
       "      <th>2</th>\n",
       "      <td>0</td>\n",
       "      <td>0</td>\n",
       "      <td>0</td>\n",
       "      <td>0</td>\n",
       "      <td>0</td>\n",
       "      <td>1</td>\n",
       "      <td>0</td>\n",
       "      <td>0</td>\n",
       "      <td>0</td>\n",
       "      <td>0</td>\n",
       "      <td>...</td>\n",
       "      <td>0</td>\n",
       "      <td>0</td>\n",
       "      <td>0</td>\n",
       "      <td>0</td>\n",
       "      <td>0</td>\n",
       "      <td>0</td>\n",
       "      <td>0</td>\n",
       "      <td>0</td>\n",
       "      <td>0</td>\n",
       "      <td>0</td>\n",
       "    </tr>\n",
       "    <tr>\n",
       "      <th>3</th>\n",
       "      <td>0</td>\n",
       "      <td>1</td>\n",
       "      <td>0</td>\n",
       "      <td>0</td>\n",
       "      <td>0</td>\n",
       "      <td>0</td>\n",
       "      <td>0</td>\n",
       "      <td>0</td>\n",
       "      <td>0</td>\n",
       "      <td>0</td>\n",
       "      <td>...</td>\n",
       "      <td>0</td>\n",
       "      <td>0</td>\n",
       "      <td>0</td>\n",
       "      <td>0</td>\n",
       "      <td>0</td>\n",
       "      <td>0</td>\n",
       "      <td>0</td>\n",
       "      <td>0</td>\n",
       "      <td>0</td>\n",
       "      <td>0</td>\n",
       "    </tr>\n",
       "    <tr>\n",
       "      <th>4</th>\n",
       "      <td>0</td>\n",
       "      <td>0</td>\n",
       "      <td>0</td>\n",
       "      <td>0</td>\n",
       "      <td>0</td>\n",
       "      <td>1</td>\n",
       "      <td>0</td>\n",
       "      <td>0</td>\n",
       "      <td>0</td>\n",
       "      <td>0</td>\n",
       "      <td>...</td>\n",
       "      <td>0</td>\n",
       "      <td>0</td>\n",
       "      <td>0</td>\n",
       "      <td>0</td>\n",
       "      <td>0</td>\n",
       "      <td>0</td>\n",
       "      <td>0</td>\n",
       "      <td>0</td>\n",
       "      <td>0</td>\n",
       "      <td>0</td>\n",
       "    </tr>\n",
       "  </tbody>\n",
       "</table>\n",
       "<p>5 rows × 21 columns</p>\n",
       "</div>"
      ],
      "text/plain": [
       "   Action  Adventure  Biography  Comedy  Crime  Drama  Family  Fantasy  \\\n",
       "0       0          0          0       0      0      1       0        0   \n",
       "1       0          0          0       0      0      1       0        0   \n",
       "2       0          0          0       0      0      1       0        0   \n",
       "3       0          1          0       0      0      0       0        0   \n",
       "4       0          0          0       0      0      1       0        0   \n",
       "\n",
       "   History  Horror  ...  Musical  Mystery  Reality-TV  Romance  Sci-Fi  Sport  \\\n",
       "0        0       0  ...        0        0           0        0       0      0   \n",
       "1        0       0  ...        0        0           0        0       0      0   \n",
       "2        0       0  ...        0        0           0        0       0      0   \n",
       "3        0       0  ...        0        0           0        0       0      0   \n",
       "4        0       0  ...        0        0           0        0       0      0   \n",
       "\n",
       "   Talk-Show  Thriller  War  Western  \n",
       "0          0         0    0        0  \n",
       "1          0         0    0        0  \n",
       "2          0         0    0        0  \n",
       "3          0         0    0        0  \n",
       "4          0         0    0        0  \n",
       "\n",
       "[5 rows x 21 columns]"
      ]
     },
     "execution_count": 58,
     "metadata": {},
     "output_type": "execute_result"
    }
   ],
   "source": [
    "dummies = movie_info['genre3'].str.get_dummies()\n",
    "dummies.head()"
   ]
  },
  {
   "cell_type": "code",
   "execution_count": null,
   "metadata": {},
   "outputs": [],
   "source": []
  }
 ],
 "metadata": {
  "kernelspec": {
   "display_name": "Python 3",
   "language": "python",
   "name": "python3"
  },
  "language_info": {
   "codemirror_mode": {
    "name": "ipython",
    "version": 3
   },
   "file_extension": ".py",
   "mimetype": "text/x-python",
   "name": "python",
   "nbconvert_exporter": "python",
   "pygments_lexer": "ipython3",
   "version": "3.6.12"
  }
 },
 "nbformat": 4,
 "nbformat_minor": 4
}
